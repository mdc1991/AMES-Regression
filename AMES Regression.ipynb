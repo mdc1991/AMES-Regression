{
 "metadata": {
  "language_info": {
   "codemirror_mode": {
    "name": "ipython",
    "version": 3
   },
   "file_extension": ".py",
   "mimetype": "text/x-python",
   "name": "python",
   "nbconvert_exporter": "python",
   "pygments_lexer": "ipython3",
   "version": "3.6.7-final"
  },
  "orig_nbformat": 2,
  "kernelspec": {
   "name": "Python 3.6.7 64-bit",
   "display_name": "Python 3.6.7 64-bit",
   "metadata": {
    "interpreter": {
     "hash": "c3fbe31daefed2c12c0158e6a91fd18a70d40f79737a36a764c2b3f94c40495e"
    }
   }
  }
 },
 "nbformat": 4,
 "nbformat_minor": 2,
 "cells": [
  {
   "cell_type": "code",
   "execution_count": 1,
   "metadata": {},
   "outputs": [],
   "source": [
    "import pandas as pd\n",
    "import numpy as np \n",
    "import plotly.graph_objects as go \n",
    "\n",
    "from sklearn.base import BaseEstimator, TransformerMixin\n",
    "from sklearn.preprocessing import LabelEncoder\n",
    "from sklearn.preprocessing import StandardScaler\n",
    "from sklearn.preprocessing import PolynomialFeatures\n",
    "from sklearn.pipeline import Pipeline\n",
    "from sklearn.model_selection import GridSearchCV\n",
    "\n",
    "from sklearn.linear_model import ElasticNet, Lasso\n",
    "from sklearn.svm import LinearSVR, SVR\n",
    "from sklearn.ensemble import RandomForestRegressor,  GradientBoostingRegressor, VotingRegressor\n",
    "from sklearn.model_selection import KFold, cross_val_score, train_test_split\n",
    "from sklearn.metrics import mean_squared_error\n",
    "import xgboost as xgb\n",
    "import lightgbm as lgb"
   ]
  },
  {
   "cell_type": "code",
   "execution_count": 13,
   "metadata": {},
   "outputs": [],
   "source": [
    "train_df = pd.read_csv(r'C:\\Users\\markc\\OneDrive\\Documents\\Python\\100Hours\\Regression\\House Prices\\train.csv')\n",
    "test_df = pd.read_csv(r'C:\\Users\\markc\\OneDrive\\Documents\\Python\\100Hours\\Regression\\House Prices\\test.csv')"
   ]
  },
  {
   "cell_type": "code",
   "execution_count": 14,
   "metadata": {},
   "outputs": [],
   "source": [
    "#ID not needed for predictions, but required for submission\n",
    "train_ID = train_df['Id']\n",
    "test_ID = test_df['Id']\n",
    "\n",
    "train_df.drop('Id', axis=1, inplace=True)\n",
    "test_df.drop('Id', axis=1, inplace=True)\n",
    "\n",
    "y = train_df['SalePrice'].copy()\n",
    "\n",
    "comb_df = pd.concat([train_df, test_df]).reset_index(drop='True')\n",
    "comb_df = comb_df.drop('SalePrice', axis=1)"
   ]
  },
  {
   "cell_type": "code",
   "execution_count": 15,
   "metadata": {},
   "outputs": [
    {
     "output_type": "execute_result",
     "data": {
      "text/plain": [
       "(1460, 80)"
      ]
     },
     "metadata": {},
     "execution_count": 15
    }
   ],
   "source": [
    "#feature type for visualisation\n",
    "\n",
    "cat_features = ['MSSubClass', 'MSZoning', 'Street', 'Alley', 'LotShape', 'LandContour', 'Utilities', 'LotConfig', 'LandSlope', 'Neighborhood', 'Condition1', 'Condition2', 'BldgType',\n",
    "                'HouseStyle', 'YearBuilt', 'YearRemodAdd', 'RoofStyle', 'RoofMatl', 'Exterior1st', 'Exterior2nd', 'MasVnrType', 'Foundation', 'Heating', 'CentralAir', 'Electrical', \n",
    "                'Functional', 'GarageType', 'GarageYrBlt', 'GarageFinish', 'PavedDrive', 'MiscFeature', 'MoSold', 'YrSold', 'SaleType', 'SaleCondition'] #categorical features\n",
    "\n",
    "num_features = ['LotFrontage', 'LotArea', 'MasVnrArea', 'BsmtFinSF1', 'BsmtFinSF2', 'BsmtUnfSF', 'TotalBsmtSF', '1stFlrSF', '2ndFlrSF', 'LowQualFinSF', 'GrLivArea', 'GarageArea', 'WoodDeckSF',\n",
    "                'OpenPorchSF', 'EnclosedPorch', '3SsnPorch', 'ScreenPorch', 'PoolArea', 'MiscVal'] #numerical features\n",
    "\n",
    "ord_features = ['OverallQual', 'OverallCond', 'BsmtFullBath', 'BsmtHalfBath', 'FullBath', 'HalfBath', 'BedroomAbvGr', 'KitchenAbvGr', 'TotRmsAbvGrd', 'Fireplaces', 'GarageCars'] #ordinal features (already have an order)\n",
    "map_ord_features = ['ExterQual', 'ExterCond', 'BsmtCond', 'BsmtQual', 'HeatingQC', 'KitchenQual', 'FireplaceQu', 'GarageQual', 'GarageCond', 'PoolQC'] #features which map to ordinal\n",
    "exp_ord_features = ['BsmtExposure']\n",
    "bmst_ord_features = ['BsmtFinType1', 'BsmtFinType2']\n",
    "fence_ord_features = ['Fence']\n",
    "\n",
    "ord_mapping = {'Ex' : 5, 'Gd' : 4, 'TA' : 3, 'Fa' : 2, 'Po' : 1, 'NA' : 0}\n",
    "exp_mapping = {'Gd' : 4, 'Av' : 3, 'Mn' : 2, 'No' : 1, 'NA' : 0}\n",
    "bmst_mapping = {'GLQ' : 6, 'ALQ' : 5, 'BLQ' : 4, 'Rec' : 3, 'LwQ' : 2, 'Unf' : 1, 'NA' : 0}\n",
    "fence_mapping = {'GdPrv' : 4, 'MnPrv' : 3, 'GdWo' : 2, 'MnWw' : 1, 'NA' : 0}\n",
    "\n",
    "train_df.shape\n"
   ]
  },
  {
   "cell_type": "code",
   "execution_count": 17,
   "metadata": {},
   "outputs": [
    {
     "output_type": "display_data",
     "data": {
      "application/vnd.plotly.v1+json": {
       "config": {
        "plotlyServerURL": "https://plot.ly"
       },
       "data": [
        {
         "type": "bar",
         "x": [
          "PoolQC",
          "MiscFeature",
          "Alley",
          "Fence",
          "FireplaceQu",
          "LotFrontage",
          "GarageFinish",
          "GarageYrBlt",
          "GarageQual",
          "GarageCond",
          "GarageType",
          "BsmtExposure",
          "BsmtCond",
          "BsmtQual",
          "BsmtFinType2",
          "BsmtFinType1",
          "MasVnrType",
          "MasVnrArea",
          "MSZoning",
          "BsmtFullBath",
          "BsmtHalfBath",
          "Utilities",
          "Functional",
          "Exterior2nd",
          "Exterior1st",
          "SaleType",
          "BsmtFinSF1",
          "BsmtFinSF2",
          "BsmtUnfSF",
          "Electrical",
          "KitchenQual",
          "GarageCars",
          "GarageArea",
          "TotalBsmtSF"
         ],
         "y": [
          0.9965741692360397,
          0.9640287769784173,
          0.9321685508735869,
          0.8043850633778691,
          0.48646796848235696,
          0.16649537512846865,
          0.05447070914696814,
          0.05447070914696814,
          0.05447070914696814,
          0.05447070914696814,
          0.05378554299417609,
          0.028091812264474134,
          0.028091812264474134,
          0.02774922918807811,
          0.027406646111682084,
          0.027064063035286058,
          0.008221993833504625,
          0.0078794107571086,
          0.0013703323055841042,
          0.0006851661527920521,
          0.0006851661527920521,
          0.0006851661527920521,
          0.0006851661527920521,
          0.00034258307639602604,
          0.00034258307639602604,
          0.00034258307639602604,
          0.00034258307639602604,
          0.00034258307639602604,
          0.00034258307639602604,
          0.00034258307639602604,
          0.00034258307639602604,
          0.00034258307639602604,
          0.00034258307639602604,
          0.00034258307639602604
         ]
        }
       ],
       "layout": {
        "template": {
         "data": {
          "bar": [
           {
            "error_x": {
             "color": "#2a3f5f"
            },
            "error_y": {
             "color": "#2a3f5f"
            },
            "marker": {
             "line": {
              "color": "#E5ECF6",
              "width": 0.5
             }
            },
            "type": "bar"
           }
          ],
          "barpolar": [
           {
            "marker": {
             "line": {
              "color": "#E5ECF6",
              "width": 0.5
             }
            },
            "type": "barpolar"
           }
          ],
          "carpet": [
           {
            "aaxis": {
             "endlinecolor": "#2a3f5f",
             "gridcolor": "white",
             "linecolor": "white",
             "minorgridcolor": "white",
             "startlinecolor": "#2a3f5f"
            },
            "baxis": {
             "endlinecolor": "#2a3f5f",
             "gridcolor": "white",
             "linecolor": "white",
             "minorgridcolor": "white",
             "startlinecolor": "#2a3f5f"
            },
            "type": "carpet"
           }
          ],
          "choropleth": [
           {
            "colorbar": {
             "outlinewidth": 0,
             "ticks": ""
            },
            "type": "choropleth"
           }
          ],
          "contour": [
           {
            "colorbar": {
             "outlinewidth": 0,
             "ticks": ""
            },
            "colorscale": [
             [
              0,
              "#0d0887"
             ],
             [
              0.1111111111111111,
              "#46039f"
             ],
             [
              0.2222222222222222,
              "#7201a8"
             ],
             [
              0.3333333333333333,
              "#9c179e"
             ],
             [
              0.4444444444444444,
              "#bd3786"
             ],
             [
              0.5555555555555556,
              "#d8576b"
             ],
             [
              0.6666666666666666,
              "#ed7953"
             ],
             [
              0.7777777777777778,
              "#fb9f3a"
             ],
             [
              0.8888888888888888,
              "#fdca26"
             ],
             [
              1,
              "#f0f921"
             ]
            ],
            "type": "contour"
           }
          ],
          "contourcarpet": [
           {
            "colorbar": {
             "outlinewidth": 0,
             "ticks": ""
            },
            "type": "contourcarpet"
           }
          ],
          "heatmap": [
           {
            "colorbar": {
             "outlinewidth": 0,
             "ticks": ""
            },
            "colorscale": [
             [
              0,
              "#0d0887"
             ],
             [
              0.1111111111111111,
              "#46039f"
             ],
             [
              0.2222222222222222,
              "#7201a8"
             ],
             [
              0.3333333333333333,
              "#9c179e"
             ],
             [
              0.4444444444444444,
              "#bd3786"
             ],
             [
              0.5555555555555556,
              "#d8576b"
             ],
             [
              0.6666666666666666,
              "#ed7953"
             ],
             [
              0.7777777777777778,
              "#fb9f3a"
             ],
             [
              0.8888888888888888,
              "#fdca26"
             ],
             [
              1,
              "#f0f921"
             ]
            ],
            "type": "heatmap"
           }
          ],
          "heatmapgl": [
           {
            "colorbar": {
             "outlinewidth": 0,
             "ticks": ""
            },
            "colorscale": [
             [
              0,
              "#0d0887"
             ],
             [
              0.1111111111111111,
              "#46039f"
             ],
             [
              0.2222222222222222,
              "#7201a8"
             ],
             [
              0.3333333333333333,
              "#9c179e"
             ],
             [
              0.4444444444444444,
              "#bd3786"
             ],
             [
              0.5555555555555556,
              "#d8576b"
             ],
             [
              0.6666666666666666,
              "#ed7953"
             ],
             [
              0.7777777777777778,
              "#fb9f3a"
             ],
             [
              0.8888888888888888,
              "#fdca26"
             ],
             [
              1,
              "#f0f921"
             ]
            ],
            "type": "heatmapgl"
           }
          ],
          "histogram": [
           {
            "marker": {
             "colorbar": {
              "outlinewidth": 0,
              "ticks": ""
             }
            },
            "type": "histogram"
           }
          ],
          "histogram2d": [
           {
            "colorbar": {
             "outlinewidth": 0,
             "ticks": ""
            },
            "colorscale": [
             [
              0,
              "#0d0887"
             ],
             [
              0.1111111111111111,
              "#46039f"
             ],
             [
              0.2222222222222222,
              "#7201a8"
             ],
             [
              0.3333333333333333,
              "#9c179e"
             ],
             [
              0.4444444444444444,
              "#bd3786"
             ],
             [
              0.5555555555555556,
              "#d8576b"
             ],
             [
              0.6666666666666666,
              "#ed7953"
             ],
             [
              0.7777777777777778,
              "#fb9f3a"
             ],
             [
              0.8888888888888888,
              "#fdca26"
             ],
             [
              1,
              "#f0f921"
             ]
            ],
            "type": "histogram2d"
           }
          ],
          "histogram2dcontour": [
           {
            "colorbar": {
             "outlinewidth": 0,
             "ticks": ""
            },
            "colorscale": [
             [
              0,
              "#0d0887"
             ],
             [
              0.1111111111111111,
              "#46039f"
             ],
             [
              0.2222222222222222,
              "#7201a8"
             ],
             [
              0.3333333333333333,
              "#9c179e"
             ],
             [
              0.4444444444444444,
              "#bd3786"
             ],
             [
              0.5555555555555556,
              "#d8576b"
             ],
             [
              0.6666666666666666,
              "#ed7953"
             ],
             [
              0.7777777777777778,
              "#fb9f3a"
             ],
             [
              0.8888888888888888,
              "#fdca26"
             ],
             [
              1,
              "#f0f921"
             ]
            ],
            "type": "histogram2dcontour"
           }
          ],
          "mesh3d": [
           {
            "colorbar": {
             "outlinewidth": 0,
             "ticks": ""
            },
            "type": "mesh3d"
           }
          ],
          "parcoords": [
           {
            "line": {
             "colorbar": {
              "outlinewidth": 0,
              "ticks": ""
             }
            },
            "type": "parcoords"
           }
          ],
          "pie": [
           {
            "automargin": true,
            "type": "pie"
           }
          ],
          "scatter": [
           {
            "marker": {
             "colorbar": {
              "outlinewidth": 0,
              "ticks": ""
             }
            },
            "type": "scatter"
           }
          ],
          "scatter3d": [
           {
            "line": {
             "colorbar": {
              "outlinewidth": 0,
              "ticks": ""
             }
            },
            "marker": {
             "colorbar": {
              "outlinewidth": 0,
              "ticks": ""
             }
            },
            "type": "scatter3d"
           }
          ],
          "scattercarpet": [
           {
            "marker": {
             "colorbar": {
              "outlinewidth": 0,
              "ticks": ""
             }
            },
            "type": "scattercarpet"
           }
          ],
          "scattergeo": [
           {
            "marker": {
             "colorbar": {
              "outlinewidth": 0,
              "ticks": ""
             }
            },
            "type": "scattergeo"
           }
          ],
          "scattergl": [
           {
            "marker": {
             "colorbar": {
              "outlinewidth": 0,
              "ticks": ""
             }
            },
            "type": "scattergl"
           }
          ],
          "scattermapbox": [
           {
            "marker": {
             "colorbar": {
              "outlinewidth": 0,
              "ticks": ""
             }
            },
            "type": "scattermapbox"
           }
          ],
          "scatterpolar": [
           {
            "marker": {
             "colorbar": {
              "outlinewidth": 0,
              "ticks": ""
             }
            },
            "type": "scatterpolar"
           }
          ],
          "scatterpolargl": [
           {
            "marker": {
             "colorbar": {
              "outlinewidth": 0,
              "ticks": ""
             }
            },
            "type": "scatterpolargl"
           }
          ],
          "scatterternary": [
           {
            "marker": {
             "colorbar": {
              "outlinewidth": 0,
              "ticks": ""
             }
            },
            "type": "scatterternary"
           }
          ],
          "surface": [
           {
            "colorbar": {
             "outlinewidth": 0,
             "ticks": ""
            },
            "colorscale": [
             [
              0,
              "#0d0887"
             ],
             [
              0.1111111111111111,
              "#46039f"
             ],
             [
              0.2222222222222222,
              "#7201a8"
             ],
             [
              0.3333333333333333,
              "#9c179e"
             ],
             [
              0.4444444444444444,
              "#bd3786"
             ],
             [
              0.5555555555555556,
              "#d8576b"
             ],
             [
              0.6666666666666666,
              "#ed7953"
             ],
             [
              0.7777777777777778,
              "#fb9f3a"
             ],
             [
              0.8888888888888888,
              "#fdca26"
             ],
             [
              1,
              "#f0f921"
             ]
            ],
            "type": "surface"
           }
          ],
          "table": [
           {
            "cells": {
             "fill": {
              "color": "#EBF0F8"
             },
             "line": {
              "color": "white"
             }
            },
            "header": {
             "fill": {
              "color": "#C8D4E3"
             },
             "line": {
              "color": "white"
             }
            },
            "type": "table"
           }
          ]
         },
         "layout": {
          "annotationdefaults": {
           "arrowcolor": "#2a3f5f",
           "arrowhead": 0,
           "arrowwidth": 1
          },
          "coloraxis": {
           "colorbar": {
            "outlinewidth": 0,
            "ticks": ""
           }
          },
          "colorscale": {
           "diverging": [
            [
             0,
             "#8e0152"
            ],
            [
             0.1,
             "#c51b7d"
            ],
            [
             0.2,
             "#de77ae"
            ],
            [
             0.3,
             "#f1b6da"
            ],
            [
             0.4,
             "#fde0ef"
            ],
            [
             0.5,
             "#f7f7f7"
            ],
            [
             0.6,
             "#e6f5d0"
            ],
            [
             0.7,
             "#b8e186"
            ],
            [
             0.8,
             "#7fbc41"
            ],
            [
             0.9,
             "#4d9221"
            ],
            [
             1,
             "#276419"
            ]
           ],
           "sequential": [
            [
             0,
             "#0d0887"
            ],
            [
             0.1111111111111111,
             "#46039f"
            ],
            [
             0.2222222222222222,
             "#7201a8"
            ],
            [
             0.3333333333333333,
             "#9c179e"
            ],
            [
             0.4444444444444444,
             "#bd3786"
            ],
            [
             0.5555555555555556,
             "#d8576b"
            ],
            [
             0.6666666666666666,
             "#ed7953"
            ],
            [
             0.7777777777777778,
             "#fb9f3a"
            ],
            [
             0.8888888888888888,
             "#fdca26"
            ],
            [
             1,
             "#f0f921"
            ]
           ],
           "sequentialminus": [
            [
             0,
             "#0d0887"
            ],
            [
             0.1111111111111111,
             "#46039f"
            ],
            [
             0.2222222222222222,
             "#7201a8"
            ],
            [
             0.3333333333333333,
             "#9c179e"
            ],
            [
             0.4444444444444444,
             "#bd3786"
            ],
            [
             0.5555555555555556,
             "#d8576b"
            ],
            [
             0.6666666666666666,
             "#ed7953"
            ],
            [
             0.7777777777777778,
             "#fb9f3a"
            ],
            [
             0.8888888888888888,
             "#fdca26"
            ],
            [
             1,
             "#f0f921"
            ]
           ]
          },
          "colorway": [
           "#636efa",
           "#EF553B",
           "#00cc96",
           "#ab63fa",
           "#FFA15A",
           "#19d3f3",
           "#FF6692",
           "#B6E880",
           "#FF97FF",
           "#FECB52"
          ],
          "font": {
           "color": "#2a3f5f"
          },
          "geo": {
           "bgcolor": "white",
           "lakecolor": "white",
           "landcolor": "#E5ECF6",
           "showlakes": true,
           "showland": true,
           "subunitcolor": "white"
          },
          "hoverlabel": {
           "align": "left"
          },
          "hovermode": "closest",
          "mapbox": {
           "style": "light"
          },
          "paper_bgcolor": "white",
          "plot_bgcolor": "#E5ECF6",
          "polar": {
           "angularaxis": {
            "gridcolor": "white",
            "linecolor": "white",
            "ticks": ""
           },
           "bgcolor": "#E5ECF6",
           "radialaxis": {
            "gridcolor": "white",
            "linecolor": "white",
            "ticks": ""
           }
          },
          "scene": {
           "xaxis": {
            "backgroundcolor": "#E5ECF6",
            "gridcolor": "white",
            "gridwidth": 2,
            "linecolor": "white",
            "showbackground": true,
            "ticks": "",
            "zerolinecolor": "white"
           },
           "yaxis": {
            "backgroundcolor": "#E5ECF6",
            "gridcolor": "white",
            "gridwidth": 2,
            "linecolor": "white",
            "showbackground": true,
            "ticks": "",
            "zerolinecolor": "white"
           },
           "zaxis": {
            "backgroundcolor": "#E5ECF6",
            "gridcolor": "white",
            "gridwidth": 2,
            "linecolor": "white",
            "showbackground": true,
            "ticks": "",
            "zerolinecolor": "white"
           }
          },
          "shapedefaults": {
           "line": {
            "color": "#2a3f5f"
           }
          },
          "ternary": {
           "aaxis": {
            "gridcolor": "white",
            "linecolor": "white",
            "ticks": ""
           },
           "baxis": {
            "gridcolor": "white",
            "linecolor": "white",
            "ticks": ""
           },
           "bgcolor": "#E5ECF6",
           "caxis": {
            "gridcolor": "white",
            "linecolor": "white",
            "ticks": ""
           }
          },
          "title": {
           "x": 0.05
          },
          "xaxis": {
           "automargin": true,
           "gridcolor": "white",
           "linecolor": "white",
           "ticks": "",
           "title": {
            "standoff": 15
           },
           "zerolinecolor": "white",
           "zerolinewidth": 2
          },
          "yaxis": {
           "automargin": true,
           "gridcolor": "white",
           "linecolor": "white",
           "ticks": "",
           "title": {
            "standoff": 15
           },
           "zerolinecolor": "white",
           "zerolinewidth": 2
          }
         }
        },
        "title": {
         "text": "Missing Value Percentage by Feature"
        },
        "xaxis": {
         "title": {
          "text": "Feature"
         }
        },
        "yaxis": {
         "title": {
          "text": "% Missing"
         }
        }
       }
      }
     },
     "metadata": {}
    }
   ],
   "source": [
    "#evaluate missing values\n",
    "\n",
    "def graph_missing_values(df):\n",
    "    missing_values = (df.isnull().sum() / len(df))\n",
    "    missing_values = missing_values[missing_values > 0].sort_values(ascending=False)\n",
    "\n",
    "    missing_value_df = pd.DataFrame(missing_values, columns=['Missing pct'])\n",
    "\n",
    "    fig = go.Figure()\n",
    "\n",
    "    fig.add_trace(go.Bar(\n",
    "        x=missing_value_df.index,\n",
    "        y=missing_value_df['Missing pct'].values\n",
    "    ))\n",
    "\n",
    "    fig.update_layout(title='Missing Value Percentage by Feature', xaxis_title='Feature', yaxis_title='% Missing')\n",
    "\n",
    "    if missing_value_df.empty:\n",
    "        print(\"No Missing Values\")\n",
    "    else: return fig\n",
    "\n",
    "fig = graph_missing_values(comb_df)\n",
    "\n",
    "fig.show()\n"
   ]
  },
  {
   "cell_type": "code",
   "execution_count": 18,
   "metadata": {},
   "outputs": [],
   "source": [
    "#decide how to impute missing values for each column\n",
    "\n",
    "#for missing values which might differ by neighborhood -> impute test df with moments from the training set\n",
    "#method = 'mean', 'mode', 'median'\n",
    "\n",
    "impute_na = ['Alley', 'MasVnrType', 'BsmtQual', 'BsmtCond', 'BsmtExposure', 'BsmtFinType1', 'BsmtFinType2', 'Functional', 'FireplaceQu', 'GarageType', 'GarageYrBlt', 'GarageFinish', 'GarageQual', 'GarageCond', 'PoolQC', 'Fence', 'MiscFeature'] # means that there is likely to be that the feature does not exist for that particular entry\n",
    "impute_zero = ['MasVnrArea', 'BsmtFinSF1', 'BsmtFinSF2', 'BsmtUnfSF', 'TotalBsmtSF', '1stFlrSF', '2ndFlrSF', 'LowQualFinSF', 'GrLivArea', 'BsmtFullBath', 'BsmtHalfBath', 'FullBath', 'HalfBath', 'Fireplaces', \n",
    "                'GarageCars', 'GarageArea', 'WoodDeckSF', 'OpenPorchSF', 'EnclosedPorch', '3SsnPorch', 'ScreenPorch', 'PoolArea', 'MiscVal'] # means that there is likely to be that the feature does not exist for that particular entry\n",
    "\n",
    "impute_mode = ['MSSubClass', 'LotShape', 'Utilities', 'LotConfig', 'PavedDrive', 'MoSold', 'YrSold', 'SaleType', 'SaleCondition']\n",
    "\n",
    "impute_nhood_mode = ['MSZoning', 'Street', 'LandContour', 'LandSlope', 'Condition1', 'Condition2', 'BldgType', 'HouseStyle', 'OverallQual', 'OverallCond', 'YearBuilt', 'RoofStyle', 'RoofMatl',\n",
    "                    'Exterior1st', 'Exterior2nd', 'ExterQual', 'ExterCond', 'Foundation', 'Heating', 'HeatingQC', 'CentralAir', 'Electrical', 'BedroomAbvGr', 'KitchenAbvGr', 'KitchenQual', 'TotRmsAbvGrd', \n",
    "                    'Functional'] # most common type might vary depending on where you live\n",
    "\n",
    "impute_nhood_median = ['LotFrontage', 'LotArea']\n"
   ]
  },
  {
   "cell_type": "code",
   "execution_count": 19,
   "metadata": {
    "tags": []
   },
   "outputs": [],
   "source": [
    "neighborhoods = list(comb_df['Neighborhood'].unique())\n",
    "\n",
    "#impute the string NA for each col\n",
    "for col in impute_na:\n",
    "    comb_df[col] = comb_df[col].fillna('NA')\n",
    "\n",
    "#impute zero for each col\n",
    "for col in impute_zero:\n",
    "    comb_df[col] = comb_df[col].fillna(0)\n",
    "\n",
    "#impute the mode for each col (on training dataset only)\n",
    "for col in impute_mode:\n",
    "    mode_val = train_df[col].mode().item()\n",
    "    #print(col + ' - ' + str(mode_val))\n",
    "    comb_df[col] = comb_df[col].fillna(mode_val)\n",
    "\n",
    "#impute the neighborhood mode from training set for each col\n",
    "for col in impute_nhood_mode:\n",
    "    nhood_mode_df = train_df.groupby(['Neighborhood'])[col].agg(lambda x: x.value_counts().index[0]).reset_index()\n",
    "        \n",
    "    for neighborhood in neighborhoods:\n",
    "        nhood_mode_val = nhood_mode_df.loc[nhood_mode_df['Neighborhood'].isin([neighborhood]), col].item()\n",
    "        #print('Mode: ' + col + ' - ' + neighborhood + ' - ' + str(nhood_mode_val))\n",
    "        comb_df.loc[(comb_df['Neighborhood'].isin([neighborhood])) & (comb_df[col].isna()), col] = nhood_mode_val\n",
    "\n",
    "#impute the neighborhood median from training set for each col\n",
    "for col in impute_nhood_median:\n",
    "    nhood_median_df = train_df.groupby(['Neighborhood'])[col].median().reset_index()\n",
    "\n",
    "    for neighborhood in neighborhoods:\n",
    "        nhood_median_val = nhood_median_df.loc[nhood_median_df['Neighborhood'].isin([neighborhood]), col].item()\n",
    "        #print('Median: ' + col + ' - ' + neighborhood + ' - ' + str(nhood_median_val))\n",
    "        comb_df.loc[(comb_df['Neighborhood'].isin([neighborhood])) & (comb_df[col].isna()), col] = nhood_median_val\n"
   ]
  },
  {
   "cell_type": "code",
   "execution_count": 20,
   "metadata": {},
   "outputs": [],
   "source": [
    "#map features which are ordinal by string to ordinal by numerical\n",
    "\n",
    "for col in map_ord_features:\n",
    "    comb_df[col] = comb_df[col].map(ord_mapping)\n",
    "\n",
    "for col in exp_ord_features:\n",
    "    comb_df[col] = comb_df[col].map(exp_mapping)\n",
    "\n",
    "for col in bmst_ord_features:\n",
    "    comb_df[col] = comb_df[col].map(bmst_mapping)\n",
    "\n",
    "for col in fence_ord_features:\n",
    "    comb_df[col] = comb_df[col].map(fence_mapping)\n",
    "\n",
    "#for col in cat_features:\n",
    "#    Lbl = LabelEncoder()\n",
    "#    Lbl.fit(train_df[col].values)\n",
    "#    train_df[col] = Lbl.transform(train_df[col].values)\n",
    "#    Lbl.fit(test_df[col].values)\n",
    "#    test_df[col] = Lbl.transform(test_df[col].values)\n"
   ]
  },
  {
   "cell_type": "code",
   "execution_count": 21,
   "metadata": {},
   "outputs": [],
   "source": [
    "#One Hot Encode categorical features\n",
    "\n",
    "comb_df[cat_features] = comb_df[cat_features].astype(str)\n",
    "\n",
    "X_comb = pd.get_dummies(comb_df)\n",
    "\n",
    "ntrain = train_df.shape[0]\n",
    "\n",
    "X = X_comb[:ntrain]\n",
    "X_test = X_comb[ntrain:]\n"
   ]
  },
  {
   "cell_type": "code",
   "execution_count": 22,
   "metadata": {},
   "outputs": [],
   "source": [
    "#function to return cross validation score\n",
    "def rmse_score(model, X, y, cv=5):\n",
    "    scores = cross_val_score(model, X, y, scoring='neg_mean_squared_error', cv=cv)\n",
    "    rmse = np.sqrt(-scores)\n",
    "    return(rmse)\n"
   ]
  },
  {
   "cell_type": "code",
   "execution_count": 25,
   "metadata": {},
   "outputs": [
    {
     "output_type": "stream",
     "name": "stdout",
     "text": [
      "Lasso Scores : mean 41350.3159, std 7871.0152\n"
     ]
    }
   ],
   "source": [
    "#create ML pipelines for each model\n",
    "#Lasso regression\n",
    "#Lasso Scores : mean 41350.3159, std 7871.0152\n",
    "\n",
    "lasso_reg = Pipeline([\n",
    "    ('std_scaler', StandardScaler()),\n",
    "    ('lasso_reg', Lasso(alpha=0.1, random_state=42))\n",
    "])\n",
    "\n",
    "lasso_scores = rmse_score(lasso_reg, X, y)\n",
    "print(\"Lasso Scores : mean {:.4f}, std {:.4f}\".format(lasso_scores.mean(), lasso_scores.std()))"
   ]
  },
  {
   "cell_type": "code",
   "execution_count": 27,
   "metadata": {},
   "outputs": [
    {
     "output_type": "stream",
     "name": "stdout",
     "text": [
      "Elastic Net Scores : mean 36320.1158, std 7636.1439\n"
     ]
    }
   ],
   "source": [
    "#Elastic Net regression\n",
    "#Elastic Net Scores : mean 36320.1158, std 7636.1439\n",
    "\n",
    "ENet_reg = Pipeline([\n",
    "    ('std_scaler', StandardScaler()),\n",
    "    ('ENet_reg', ElasticNet(alpha=0.1, l1_ratio=0.5, random_state=42))\n",
    "])\n",
    "\n",
    "ENet_scores = rmse_score(ENet_reg, X, y)\n",
    "print(\"Elastic Net Scores : mean {:.4f}, std {:.4f}\".format(ENet_scores.mean(), ENet_scores.std()))"
   ]
  },
  {
   "cell_type": "code",
   "execution_count": 46,
   "metadata": {},
   "outputs": [],
   "source": [
    "#Linear SVR regression\n",
    "\n",
    "#lin_SVR_reg = Pipeline([\n",
    "#    ('std_scaler', StandardScaler()),\n",
    "#    ('SVR_reg', LinearSVR(C=1, loss='hinge'))\n",
    "#])\n",
    "\n",
    "#lin_SVR_scores = rmse_score(lin_SVR_reg, X, y)\n",
    "#print(\"Linear SVR Scores : mean {:.4f}, std {:.4f}\".format(lin_SVR_scores.mean(), lin_SVR_scores.std()))"
   ]
  },
  {
   "cell_type": "code",
   "execution_count": 40,
   "metadata": {},
   "outputs": [
    {
     "output_type": "execute_result",
     "data": {
      "text/plain": [
       "array([32459.45058606, 42703.87187205, 45455.0990956 , 32914.13000612,\n",
       "       53219.02788428])"
      ]
     },
     "metadata": {},
     "execution_count": 40
    }
   ],
   "source": [
    "#Non-linear SVR regression\n",
    "\n",
    "#nonlin_SVR_reg = Pipeline([\n",
    "#    ('poly_features', PolynomialFeatures(degree=3)),\n",
    "#    ('std_scaler', StandardScaler()),\n",
    "#    ('SVR_reg', LinearSVR(C=1, loss='hinge'))\n",
    "#])\n",
    "\n",
    "#nonlin_SVR_scores = rmse_score(nonlin_SVR_reg, X, y)\n",
    "#print(\"Non-Linear SVR Scores : mean {:.4f}, std {:.4f}\".format(nonlin_SVR_scores.mean(), nonlin_SVR_scores.std()))"
   ]
  },
  {
   "cell_type": "code",
   "execution_count": 32,
   "metadata": {},
   "outputs": [
    {
     "output_type": "stream",
     "name": "stdout",
     "text": [
      "Random Forest Scores : mean 35499.2621, std 5033.3159\n"
     ]
    }
   ],
   "source": [
    "#Random Forest regression\n",
    "#Random Forest Scores : mean 35499.2621, std 5033.3159\n",
    "\n",
    "rf_reg = RandomForestRegressor(n_estimators=500, max_depth=5, min_samples_leaf=25, random_state=42)\n",
    "\n",
    "rf_scores = rmse_score(rf_reg, X, y)\n",
    "print(\"Random Forest Scores : mean {:.4f}, std {:.4f}\".format(rf_scores.mean(), rf_scores.std()))"
   ]
  },
  {
   "cell_type": "code",
   "execution_count": 29,
   "metadata": {},
   "outputs": [
    {
     "output_type": "stream",
     "name": "stdout",
     "text": [
      "GBoost Scores : mean 28809.2752, std 5330.3700\n"
     ]
    }
   ],
   "source": [
    "#Gradient Boosting Regresion loss=huber makes it robust to outliers\n",
    "#GBoost Scores : mean 28809.2752, std 5330.3700\n",
    "\n",
    "GBoost_reg = GradientBoostingRegressor(n_estimators=500, learning_rate=0.05, max_depth=5, min_samples_leaf=25, loss='huber', random_state=42)\n",
    "\n",
    "GBoost_scores = rmse_score(GBoost_reg, X, y)\n",
    "print(\"GBoost Scores : mean {:.4f}, std {:.4f}\".format(GBoost_scores.mean(), GBoost_scores.std()))"
   ]
  },
  {
   "cell_type": "code",
   "execution_count": 31,
   "metadata": {},
   "outputs": [
    {
     "output_type": "stream",
     "name": "stdout",
     "text": [
      "XGB Scores : mean 27965.0031, std 3293.8520\n"
     ]
    }
   ],
   "source": [
    "#XGBoost\n",
    "#XGB Scores : mean 27965.0031, std 3293.8520\n",
    "\n",
    "XGB_reg = xgb.XGBRegressor(n_estimators=500, learning_rate=0.05, max_depth=5, random_state=42)\n",
    "\n",
    "XGB_scores = rmse_score(XGB_reg, X, y)\n",
    "print(\"XGB Scores : mean {:.4f}, std {:.4f}\".format(XGB_scores.mean(), XGB_scores.std()))"
   ]
  },
  {
   "cell_type": "code",
   "execution_count": 30,
   "metadata": {},
   "outputs": [
    {
     "output_type": "stream",
     "name": "stdout",
     "text": [
      "Light GBM Scores : mean 27267.6667, std 4409.2111\n"
     ]
    }
   ],
   "source": [
    "#Light GBM\n",
    "#Light GBM Scores : mean 27267.6667, std 4409.2111\n",
    "\n",
    "lgb_reg = lgb.LGBMRegressor(objective='regression', n_estimators=500, num_leaves=5, learning_rate=0.05, min_data_in_leaf=25, random_state=42)\n",
    "\n",
    "lgb_scores = rmse_score(lgb_reg, X, y)\n",
    "print(\"Light GBM Scores : mean {:.4f}, std {:.4f}\".format(lgb_scores.mean(), lgb_scores.std()))"
   ]
  },
  {
   "cell_type": "code",
   "execution_count": 56,
   "metadata": {},
   "outputs": [
    {
     "output_type": "stream",
     "name": "stdout",
     "text": [
      "Voting Scores : mean 28856.6040, std 4827.6064\n"
     ]
    }
   ],
   "source": [
    "#Ensemble Method\n",
    "#Voting Scores : mean 28856.6040, std 4827.6064\n",
    "\n",
    "voting_reg = VotingRegressor(\n",
    "    estimators=[('rf_reg', rf_reg), ('GBoost_reg', GBoost_reg), ('LGBM_reg', lgb_reg)]\n",
    ")\n",
    "\n",
    "voting_scores = rmse_score(voting_reg, X, y)\n",
    "print(\"Voting Scores : mean {:.4f}, std {:.4f}\".format(voting_scores.mean(), voting_scores.std()))"
   ]
  },
  {
   "cell_type": "code",
   "execution_count": 70,
   "metadata": {
    "tags": [
     "outputPrepend"
    ]
   },
   "outputs": [
    {
     "output_type": "stream",
     "name": "stderr",
     "text": [
      "=-976788753.689), total= 5.8min\n",
      "[CV] max_depth=10, n_estimators=500, reg_alpha=0.75, reg_lambda=0.25 .\n",
      "[CV]  max_depth=10, n_estimators=500, reg_alpha=0.75, reg_lambda=0.25, score=(train=-7041.057, test=-912506714.785), total=  12.9s\n",
      "[CV] max_depth=10, n_estimators=500, reg_alpha=0.75, reg_lambda=0.5 ..\n",
      "[CV]  max_depth=10, n_estimators=500, reg_alpha=0.75, reg_lambda=0.5, score=(train=-16707.606, test=-636031638.071), total=  12.0s\n",
      "[CV] max_depth=10, n_estimators=500, reg_alpha=0.75, reg_lambda=0.5 ..\n",
      "[CV]  max_depth=10, n_estimators=500, reg_alpha=0.75, reg_lambda=0.5, score=(train=-16418.267, test=-1060212014.042), total=  10.6s\n",
      "[CV] max_depth=10, n_estimators=500, reg_alpha=0.75, reg_lambda=0.5 ..\n",
      "[CV]  max_depth=10, n_estimators=500, reg_alpha=0.75, reg_lambda=0.5, score=(train=-23189.709, test=-849774735.448), total=   9.8s\n",
      "[CV] max_depth=10, n_estimators=500, reg_alpha=0.75, reg_lambda=0.75 .\n",
      "[CV]  max_depth=10, n_estimators=500, reg_alpha=0.75, reg_lambda=0.75, score=(train=-34456.156, test=-632879708.070), total=  11.2s\n",
      "[CV] max_depth=10, n_estimators=500, reg_alpha=0.75, reg_lambda=0.75 .\n",
      "[CV]  max_depth=10, n_estimators=500, reg_alpha=0.75, reg_lambda=0.75, score=(train=-31286.955, test=-998875581.138), total=  11.2s\n",
      "[CV] max_depth=10, n_estimators=500, reg_alpha=0.75, reg_lambda=0.75 .\n",
      "[CV]  max_depth=10, n_estimators=500, reg_alpha=0.75, reg_lambda=0.75, score=(train=-31768.470, test=-765069463.621), total=  13.4s\n",
      "[CV] max_depth=10, n_estimators=500, reg_alpha=0.75, reg_lambda=1 ....\n",
      "[CV]  max_depth=10, n_estimators=500, reg_alpha=0.75, reg_lambda=1, score=(train=-64613.358, test=-679613605.959), total=  12.8s\n",
      "[CV] max_depth=10, n_estimators=500, reg_alpha=0.75, reg_lambda=1 ....\n",
      "[CV]  max_depth=10, n_estimators=500, reg_alpha=0.75, reg_lambda=1, score=(train=-64683.585, test=-1122808791.335), total=  12.7s\n",
      "[CV] max_depth=10, n_estimators=500, reg_alpha=0.75, reg_lambda=1 ....\n",
      "[CV]  max_depth=10, n_estimators=500, reg_alpha=0.75, reg_lambda=1, score=(train=-47194.291, test=-837116389.330), total=  13.4s\n",
      "[CV] max_depth=10, n_estimators=500, reg_alpha=1, reg_lambda=0 .......\n",
      "[CV]  max_depth=10, n_estimators=500, reg_alpha=1, reg_lambda=0, score=(train=-425.729, test=-878884668.421), total=  12.8s\n",
      "[CV] max_depth=10, n_estimators=500, reg_alpha=1, reg_lambda=0 .......\n",
      "[CV]  max_depth=10, n_estimators=500, reg_alpha=1, reg_lambda=0, score=(train=-244.004, test=-1492932939.888), total=  13.4s\n",
      "[CV] max_depth=10, n_estimators=500, reg_alpha=1, reg_lambda=0 .......\n",
      "[CV]  max_depth=10, n_estimators=500, reg_alpha=1, reg_lambda=0, score=(train=-527.382, test=-1892134689.701), total=  13.4s\n",
      "[CV] max_depth=10, n_estimators=500, reg_alpha=1, reg_lambda=0.25 ....\n",
      "[CV]  max_depth=10, n_estimators=500, reg_alpha=1, reg_lambda=0.25, score=(train=-7217.128, test=-664579176.606), total=   7.6s\n",
      "[CV] max_depth=10, n_estimators=500, reg_alpha=1, reg_lambda=0.25 ....\n",
      "[CV]  max_depth=10, n_estimators=500, reg_alpha=1, reg_lambda=0.25, score=(train=-5081.367, test=-963874544.301), total=   7.9s\n",
      "[CV] max_depth=10, n_estimators=500, reg_alpha=1, reg_lambda=0.25 ....\n",
      "[CV]  max_depth=10, n_estimators=500, reg_alpha=1, reg_lambda=0.25, score=(train=-7339.227, test=-900070682.503), total=   9.1s\n",
      "[CV] max_depth=10, n_estimators=500, reg_alpha=1, reg_lambda=0.5 .....\n",
      "[CV]  max_depth=10, n_estimators=500, reg_alpha=1, reg_lambda=0.5, score=(train=-17444.994, test=-636440211.506), total=   9.6s\n",
      "[CV] max_depth=10, n_estimators=500, reg_alpha=1, reg_lambda=0.5 .....\n",
      "[CV]  max_depth=10, n_estimators=500, reg_alpha=1, reg_lambda=0.5, score=(train=-14882.073, test=-1064335083.770), total=   8.4s\n",
      "[CV] max_depth=10, n_estimators=500, reg_alpha=1, reg_lambda=0.5 .....\n",
      "[CV]  max_depth=10, n_estimators=500, reg_alpha=1, reg_lambda=0.5, score=(train=-24647.491, test=-847980299.369), total=  10.0s\n",
      "[CV] max_depth=10, n_estimators=500, reg_alpha=1, reg_lambda=0.75 ....\n",
      "[CV]  max_depth=10, n_estimators=500, reg_alpha=1, reg_lambda=0.75, score=(train=-28692.145, test=-633101340.576), total=   8.6s\n",
      "[CV] max_depth=10, n_estimators=500, reg_alpha=1, reg_lambda=0.75 ....\n",
      "[CV]  max_depth=10, n_estimators=500, reg_alpha=1, reg_lambda=0.75, score=(train=-28209.054, test=-998972717.448), total=   8.2s\n",
      "[CV] max_depth=10, n_estimators=500, reg_alpha=1, reg_lambda=0.75 ....\n",
      "[CV]  max_depth=10, n_estimators=500, reg_alpha=1, reg_lambda=0.75, score=(train=-37101.293, test=-764802213.021), total=   8.7s\n",
      "[CV] max_depth=10, n_estimators=500, reg_alpha=1, reg_lambda=1 .......\n",
      "[CV]  max_depth=10, n_estimators=500, reg_alpha=1, reg_lambda=1, score=(train=-53840.835, test=-679696152.527), total=   8.4s\n",
      "[CV] max_depth=10, n_estimators=500, reg_alpha=1, reg_lambda=1 .......\n",
      "[CV]  max_depth=10, n_estimators=500, reg_alpha=1, reg_lambda=1, score=(train=-43843.983, test=-1122227208.605), total=   8.2s\n",
      "[CV] max_depth=10, n_estimators=500, reg_alpha=1, reg_lambda=1 .......\n",
      "[CV]  max_depth=10, n_estimators=500, reg_alpha=1, reg_lambda=1, score=(train=-47612.959, test=-822533582.812), total=   8.4s\n",
      "[CV] max_depth=10, n_estimators=1000, reg_alpha=0, reg_lambda=0 ......\n",
      "[CV]  max_depth=10, n_estimators=1000, reg_alpha=0, reg_lambda=0, score=(train=-1.387, test=-874616932.420), total=  17.3s\n",
      "[CV] max_depth=10, n_estimators=1000, reg_alpha=0, reg_lambda=0 ......\n",
      "[CV]  max_depth=10, n_estimators=1000, reg_alpha=0, reg_lambda=0, score=(train=-0.249, test=-1496097893.169), total=  17.0s\n",
      "[CV] max_depth=10, n_estimators=1000, reg_alpha=0, reg_lambda=0 ......\n",
      "[CV]  max_depth=10, n_estimators=1000, reg_alpha=0, reg_lambda=0, score=(train=-3.946, test=-1900394366.068), total=  16.6s\n",
      "[CV] max_depth=10, n_estimators=1000, reg_alpha=0, reg_lambda=0.25 ...\n",
      "[CV]  max_depth=10, n_estimators=1000, reg_alpha=0, reg_lambda=0.25, score=(train=-47.667, test=-666157280.866), total=  16.4s\n",
      "[CV] max_depth=10, n_estimators=1000, reg_alpha=0, reg_lambda=0.25 ...\n",
      "[CV]  max_depth=10, n_estimators=1000, reg_alpha=0, reg_lambda=0.25, score=(train=-40.160, test=-979579370.727), total=  16.2s\n",
      "[CV] max_depth=10, n_estimators=1000, reg_alpha=0, reg_lambda=0.25 ...\n",
      "[CV]  max_depth=10, n_estimators=1000, reg_alpha=0, reg_lambda=0.25, score=(train=-55.674, test=-904569244.489), total=  16.6s\n",
      "[CV] max_depth=10, n_estimators=1000, reg_alpha=0, reg_lambda=0.5 ....\n",
      "[CV]  max_depth=10, n_estimators=1000, reg_alpha=0, reg_lambda=0.5, score=(train=-55.852, test=-636901510.190), total=  16.3s\n",
      "[CV] max_depth=10, n_estimators=1000, reg_alpha=0, reg_lambda=0.5 ....\n",
      "[CV]  max_depth=10, n_estimators=1000, reg_alpha=0, reg_lambda=0.5, score=(train=-57.355, test=-1063083114.978), total=  17.1s\n",
      "[CV] max_depth=10, n_estimators=1000, reg_alpha=0, reg_lambda=0.5 ....\n",
      "[CV]  max_depth=10, n_estimators=1000, reg_alpha=0, reg_lambda=0.5, score=(train=-218.730, test=-849907439.275), total=  27.8s\n",
      "[CV] max_depth=10, n_estimators=1000, reg_alpha=0, reg_lambda=0.75 ...\n",
      "[CV]  max_depth=10, n_estimators=1000, reg_alpha=0, reg_lambda=0.75, score=(train=-180.897, test=-640740768.651), total=  24.2s\n",
      "[CV] max_depth=10, n_estimators=1000, reg_alpha=0, reg_lambda=0.75 ...\n",
      "[CV]  max_depth=10, n_estimators=1000, reg_alpha=0, reg_lambda=0.75, score=(train=-128.764, test=-1000300380.506), total=  24.0s\n",
      "[CV] max_depth=10, n_estimators=1000, reg_alpha=0, reg_lambda=0.75 ...\n",
      "[CV]  max_depth=10, n_estimators=1000, reg_alpha=0, reg_lambda=0.75, score=(train=-188.376, test=-764351000.292), total=  30.6s\n",
      "[CV] max_depth=10, n_estimators=1000, reg_alpha=0, reg_lambda=1 ......\n",
      "[CV]  max_depth=10, n_estimators=1000, reg_alpha=0, reg_lambda=1, score=(train=-405.629, test=-681972956.047), total=  29.2s\n",
      "[CV] max_depth=10, n_estimators=1000, reg_alpha=0, reg_lambda=1 ......\n",
      "[CV]  max_depth=10, n_estimators=1000, reg_alpha=0, reg_lambda=1, score=(train=-360.135, test=-1121361535.488), total=  33.1s\n",
      "[CV] max_depth=10, n_estimators=1000, reg_alpha=0, reg_lambda=1 ......\n",
      "[CV]  max_depth=10, n_estimators=1000, reg_alpha=0, reg_lambda=1, score=(train=-570.406, test=-834382914.245), total=  28.6s\n",
      "[CV] max_depth=10, n_estimators=1000, reg_alpha=0.25, reg_lambda=0 ...\n",
      "[CV]  max_depth=10, n_estimators=1000, reg_alpha=0.25, reg_lambda=0, score=(train=-0.503, test=-876395655.356), total=  27.9s\n",
      "[CV] max_depth=10, n_estimators=1000, reg_alpha=0.25, reg_lambda=0 ...\n",
      "[CV]  max_depth=10, n_estimators=1000, reg_alpha=0.25, reg_lambda=0, score=(train=-0.991, test=-1498382784.950), total=  26.7s\n",
      "[CV] max_depth=10, n_estimators=1000, reg_alpha=0.25, reg_lambda=0 ...\n",
      "[CV]  max_depth=10, n_estimators=1000, reg_alpha=0.25, reg_lambda=0, score=(train=-1.662, test=-1893255497.734), total=  22.9s\n",
      "[CV] max_depth=10, n_estimators=1000, reg_alpha=0.25, reg_lambda=0.25 \n",
      "[CV]  max_depth=10, n_estimators=1000, reg_alpha=0.25, reg_lambda=0.25, score=(train=-39.919, test=-664706552.941), total=  25.6s\n",
      "[CV] max_depth=10, n_estimators=1000, reg_alpha=0.25, reg_lambda=0.25 \n",
      "[CV]  max_depth=10, n_estimators=1000, reg_alpha=0.25, reg_lambda=0.25, score=(train=-25.662, test=-972317212.368), total=  27.5s\n",
      "[CV] max_depth=10, n_estimators=1000, reg_alpha=0.25, reg_lambda=0.25 \n",
      "[CV]  max_depth=10, n_estimators=1000, reg_alpha=0.25, reg_lambda=0.25, score=(train=-52.122, test=-905588849.058), total=  28.4s\n",
      "[CV] max_depth=10, n_estimators=1000, reg_alpha=0.25, reg_lambda=0.5 .\n",
      "[CV]  max_depth=10, n_estimators=1000, reg_alpha=0.25, reg_lambda=0.5, score=(train=-79.489, test=-635118838.992), total=  30.7s\n",
      "[CV] max_depth=10, n_estimators=1000, reg_alpha=0.25, reg_lambda=0.5 .\n",
      "[CV]  max_depth=10, n_estimators=1000, reg_alpha=0.25, reg_lambda=0.5, score=(train=-70.591, test=-1067351022.157), total=  26.3s\n",
      "[CV] max_depth=10, n_estimators=1000, reg_alpha=0.25, reg_lambda=0.5 .\n",
      "[CV]  max_depth=10, n_estimators=1000, reg_alpha=0.25, reg_lambda=0.5, score=(train=-149.909, test=-855118963.873), total=  24.1s\n",
      "[CV] max_depth=10, n_estimators=1000, reg_alpha=0.25, reg_lambda=0.75 \n",
      "[CV]  max_depth=10, n_estimators=1000, reg_alpha=0.25, reg_lambda=0.75, score=(train=-285.050, test=-640305465.614), total=  24.6s\n",
      "[CV] max_depth=10, n_estimators=1000, reg_alpha=0.25, reg_lambda=0.75 \n",
      "[CV]  max_depth=10, n_estimators=1000, reg_alpha=0.25, reg_lambda=0.75, score=(train=-204.755, test=-997689119.570), total=  27.1s\n",
      "[CV] max_depth=10, n_estimators=1000, reg_alpha=0.25, reg_lambda=0.75 \n",
      "[CV]  max_depth=10, n_estimators=1000, reg_alpha=0.25, reg_lambda=0.75, score=(train=-219.939, test=-764241170.298), total=  33.0s\n",
      "[CV] max_depth=10, n_estimators=1000, reg_alpha=0.25, reg_lambda=1 ...\n",
      "[CV]  max_depth=10, n_estimators=1000, reg_alpha=0.25, reg_lambda=1, score=(train=-226.088, test=-679568920.819), total=  32.3s\n",
      "[CV] max_depth=10, n_estimators=1000, reg_alpha=0.25, reg_lambda=1 ...\n",
      "[CV]  max_depth=10, n_estimators=1000, reg_alpha=0.25, reg_lambda=1, score=(train=-239.709, test=-1121124903.756), total=  25.0s\n",
      "[CV] max_depth=10, n_estimators=1000, reg_alpha=0.25, reg_lambda=1 ...\n",
      "[CV]  max_depth=10, n_estimators=1000, reg_alpha=0.25, reg_lambda=1, score=(train=-329.433, test=-835436693.823), total=  30.9s\n",
      "[CV] max_depth=10, n_estimators=1000, reg_alpha=0.5, reg_lambda=0 ....\n",
      "[CV]  max_depth=10, n_estimators=1000, reg_alpha=0.5, reg_lambda=0, score=(train=-0.338, test=-876767424.801), total=  33.0s\n",
      "[CV] max_depth=10, n_estimators=1000, reg_alpha=0.5, reg_lambda=0 ....\n",
      "[CV]  max_depth=10, n_estimators=1000, reg_alpha=0.5, reg_lambda=0, score=(train=-0.117, test=-1491701236.295), total=  33.9s\n",
      "[CV] max_depth=10, n_estimators=1000, reg_alpha=0.5, reg_lambda=0 ....\n",
      "[CV]  max_depth=10, n_estimators=1000, reg_alpha=0.5, reg_lambda=0, score=(train=-2.387, test=-1894235247.236), total=  45.7s\n",
      "[CV] max_depth=10, n_estimators=1000, reg_alpha=0.5, reg_lambda=0.25 .\n",
      "[CV]  max_depth=10, n_estimators=1000, reg_alpha=0.5, reg_lambda=0.25, score=(train=-35.934, test=-663362737.418), total=  44.7s\n",
      "[CV] max_depth=10, n_estimators=1000, reg_alpha=0.5, reg_lambda=0.25 .\n",
      "[CV]  max_depth=10, n_estimators=1000, reg_alpha=0.5, reg_lambda=0.25, score=(train=-10.838, test=-968480530.788), total=  34.0s\n",
      "[CV] max_depth=10, n_estimators=1000, reg_alpha=0.5, reg_lambda=0.25 .\n",
      "[CV]  max_depth=10, n_estimators=1000, reg_alpha=0.5, reg_lambda=0.25, score=(train=-51.117, test=-906884584.657), total=  34.7s\n",
      "[CV] max_depth=10, n_estimators=1000, reg_alpha=0.5, reg_lambda=0.5 ..\n",
      "[CV]  max_depth=10, n_estimators=1000, reg_alpha=0.5, reg_lambda=0.5, score=(train=-54.080, test=-635570933.303), total=  29.4s\n",
      "[CV] max_depth=10, n_estimators=1000, reg_alpha=0.5, reg_lambda=0.5 ..\n",
      "[CV]  max_depth=10, n_estimators=1000, reg_alpha=0.5, reg_lambda=0.5, score=(train=-51.571, test=-1065765069.749), total=  28.7s\n",
      "[CV] max_depth=10, n_estimators=1000, reg_alpha=0.5, reg_lambda=0.5 ..\n",
      "[CV]  max_depth=10, n_estimators=1000, reg_alpha=0.5, reg_lambda=0.5, score=(train=-162.495, test=-849433728.739), total=  28.5s\n",
      "[CV] max_depth=10, n_estimators=1000, reg_alpha=0.5, reg_lambda=0.75 .\n",
      "[CV]  max_depth=10, n_estimators=1000, reg_alpha=0.5, reg_lambda=0.75, score=(train=-170.202, test=-632758232.388), total=  29.4s\n",
      "[CV] max_depth=10, n_estimators=1000, reg_alpha=0.5, reg_lambda=0.75 .\n",
      "[CV]  max_depth=10, n_estimators=1000, reg_alpha=0.5, reg_lambda=0.75, score=(train=-84.891, test=-997680147.534), total=  22.3s\n",
      "[CV] max_depth=10, n_estimators=1000, reg_alpha=0.5, reg_lambda=0.75 .\n",
      "[CV]  max_depth=10, n_estimators=1000, reg_alpha=0.5, reg_lambda=0.75, score=(train=-228.535, test=-764115005.986), total=  23.8s\n",
      "[CV] max_depth=10, n_estimators=1000, reg_alpha=0.5, reg_lambda=1 ....\n",
      "[CV]  max_depth=10, n_estimators=1000, reg_alpha=0.5, reg_lambda=1, score=(train=-307.322, test=-679723044.122), total=  23.0s\n",
      "[CV] max_depth=10, n_estimators=1000, reg_alpha=0.5, reg_lambda=1 ....\n",
      "[CV]  max_depth=10, n_estimators=1000, reg_alpha=0.5, reg_lambda=1, score=(train=-459.788, test=-1122506310.320), total=  22.4s\n",
      "[CV] max_depth=10, n_estimators=1000, reg_alpha=0.5, reg_lambda=1 ....\n",
      "[CV]  max_depth=10, n_estimators=1000, reg_alpha=0.5, reg_lambda=1, score=(train=-319.029, test=-836380632.676), total=  25.2s\n",
      "[CV] max_depth=10, n_estimators=1000, reg_alpha=0.75, reg_lambda=0 ...\n",
      "[CV]  max_depth=10, n_estimators=1000, reg_alpha=0.75, reg_lambda=0, score=(train=-0.214, test=-884733373.067), total=  23.0s\n",
      "[CV] max_depth=10, n_estimators=1000, reg_alpha=0.75, reg_lambda=0 ...\n",
      "[CV]  max_depth=10, n_estimators=1000, reg_alpha=0.75, reg_lambda=0, score=(train=-0.091, test=-1489163382.464), total=  23.0s\n",
      "[CV] max_depth=10, n_estimators=1000, reg_alpha=0.75, reg_lambda=0 ...\n",
      "[CV]  max_depth=10, n_estimators=1000, reg_alpha=0.75, reg_lambda=0, score=(train=-0.314, test=-1890882712.259), total=  22.0s\n",
      "[CV] max_depth=10, n_estimators=1000, reg_alpha=0.75, reg_lambda=0.25 \n",
      "[CV]  max_depth=10, n_estimators=1000, reg_alpha=0.75, reg_lambda=0.25, score=(train=-45.270, test=-664619086.555), total=  21.3s\n",
      "[CV] max_depth=10, n_estimators=1000, reg_alpha=0.75, reg_lambda=0.25 \n",
      "[CV]  max_depth=10, n_estimators=1000, reg_alpha=0.75, reg_lambda=0.25, score=(train=-10.397, test=-976805844.492), total=  21.7s\n",
      "[CV] max_depth=10, n_estimators=1000, reg_alpha=0.75, reg_lambda=0.25 \n",
      "[CV]  max_depth=10, n_estimators=1000, reg_alpha=0.75, reg_lambda=0.25, score=(train=-31.250, test=-912429411.884), total=  22.4s\n",
      "[CV] max_depth=10, n_estimators=1000, reg_alpha=0.75, reg_lambda=0.5 .\n",
      "[CV]  max_depth=10, n_estimators=1000, reg_alpha=0.75, reg_lambda=0.5, score=(train=-59.912, test=-636046285.567), total=  22.7s\n",
      "[CV] max_depth=10, n_estimators=1000, reg_alpha=0.75, reg_lambda=0.5 .\n",
      "[CV]  max_depth=10, n_estimators=1000, reg_alpha=0.75, reg_lambda=0.5, score=(train=-53.320, test=-1060060044.794), total=  23.1s\n",
      "[CV] max_depth=10, n_estimators=1000, reg_alpha=0.75, reg_lambda=0.5 .\n",
      "[CV]  max_depth=10, n_estimators=1000, reg_alpha=0.75, reg_lambda=0.5, score=(train=-181.002, test=-849694488.323), total=  29.2s\n",
      "[CV] max_depth=10, n_estimators=1000, reg_alpha=0.75, reg_lambda=0.75 \n",
      "[CV]  max_depth=10, n_estimators=1000, reg_alpha=0.75, reg_lambda=0.75, score=(train=-167.460, test=-632756637.345), total=  25.3s\n",
      "[CV] max_depth=10, n_estimators=1000, reg_alpha=0.75, reg_lambda=0.75 \n",
      "[CV]  max_depth=10, n_estimators=1000, reg_alpha=0.75, reg_lambda=0.75, score=(train=-109.338, test=-998697267.484), total=  29.6s\n",
      "[CV] max_depth=10, n_estimators=1000, reg_alpha=0.75, reg_lambda=0.75 \n",
      "[CV]  max_depth=10, n_estimators=1000, reg_alpha=0.75, reg_lambda=0.75, score=(train=-212.972, test=-764893796.814), total=  25.7s\n",
      "[CV] max_depth=10, n_estimators=1000, reg_alpha=0.75, reg_lambda=1 ...\n",
      "[CV]  max_depth=10, n_estimators=1000, reg_alpha=0.75, reg_lambda=1, score=(train=-520.017, test=-679737210.487), total=  26.4s\n",
      "[CV] max_depth=10, n_estimators=1000, reg_alpha=0.75, reg_lambda=1 ...\n",
      "[CV]  max_depth=10, n_estimators=1000, reg_alpha=0.75, reg_lambda=1, score=(train=-189.512, test=-1122885319.287), total=  26.1s\n",
      "[CV] max_depth=10, n_estimators=1000, reg_alpha=0.75, reg_lambda=1 ...\n",
      "[CV]  max_depth=10, n_estimators=1000, reg_alpha=0.75, reg_lambda=1, score=(train=-412.748, test=-836840093.631), total=  24.0s\n",
      "[CV] max_depth=10, n_estimators=1000, reg_alpha=1, reg_lambda=0 ......\n",
      "[CV]  max_depth=10, n_estimators=1000, reg_alpha=1, reg_lambda=0, score=(train=-0.227, test=-878887066.633), total=  36.1s\n",
      "[CV] max_depth=10, n_estimators=1000, reg_alpha=1, reg_lambda=0 ......\n",
      "[CV]  max_depth=10, n_estimators=1000, reg_alpha=1, reg_lambda=0, score=(train=-0.098, test=-1492932651.080), total=  29.7s\n",
      "[CV] max_depth=10, n_estimators=1000, reg_alpha=1, reg_lambda=0 ......\n",
      "[CV]  max_depth=10, n_estimators=1000, reg_alpha=1, reg_lambda=0, score=(train=-1.140, test=-1892096936.273), total=  22.8s\n",
      "[CV] max_depth=10, n_estimators=1000, reg_alpha=1, reg_lambda=0.25 ...\n",
      "[CV]  max_depth=10, n_estimators=1000, reg_alpha=1, reg_lambda=0.25, score=(train=-31.589, test=-664552213.539), total=  22.4s\n",
      "[CV] max_depth=10, n_estimators=1000, reg_alpha=1, reg_lambda=0.25 ...\n",
      "[CV]  max_depth=10, n_estimators=1000, reg_alpha=1, reg_lambda=0.25, score=(train=-18.050, test=-963877093.972), total=  22.8s\n",
      "[CV] max_depth=10, n_estimators=1000, reg_alpha=1, reg_lambda=0.25 ...\n",
      "[CV]  max_depth=10, n_estimators=1000, reg_alpha=1, reg_lambda=0.25, score=(train=-41.851, test=-899980672.387), total=  22.4s\n",
      "[CV] max_depth=10, n_estimators=1000, reg_alpha=1, reg_lambda=0.5 ....\n",
      "[CV]  max_depth=10, n_estimators=1000, reg_alpha=1, reg_lambda=0.5, score=(train=-74.162, test=-636406713.569), total=  22.0s\n",
      "[CV] max_depth=10, n_estimators=1000, reg_alpha=1, reg_lambda=0.5 ....\n",
      "[CV]  max_depth=10, n_estimators=1000, reg_alpha=1, reg_lambda=0.5, score=(train=-50.111, test=-1064154593.732), total=  22.3s\n",
      "[CV] max_depth=10, n_estimators=1000, reg_alpha=1, reg_lambda=0.5 ....\n",
      "[CV]  max_depth=10, n_estimators=1000, reg_alpha=1, reg_lambda=0.5, score=(train=-184.453, test=-847894152.738), total=  22.7s\n",
      "[CV] max_depth=10, n_estimators=1000, reg_alpha=1, reg_lambda=0.75 ...\n",
      "[CV]  max_depth=10, n_estimators=1000, reg_alpha=1, reg_lambda=0.75, score=(train=-114.957, test=-633191603.077), total=  22.0s\n",
      "[CV] max_depth=10, n_estimators=1000, reg_alpha=1, reg_lambda=0.75 ...\n",
      "[CV]  max_depth=10, n_estimators=1000, reg_alpha=1, reg_lambda=0.75, score=(train=-70.903, test=-998851940.344), total=  22.1s\n",
      "[CV] max_depth=10, n_estimators=1000, reg_alpha=1, reg_lambda=0.75 ...\n",
      "[CV]  max_depth=10, n_estimators=1000, reg_alpha=1, reg_lambda=0.75, score=(train=-374.576, test=-764756040.189), total=  22.0s\n",
      "[CV] max_depth=10, n_estimators=1000, reg_alpha=1, reg_lambda=1 ......\n",
      "[CV]  max_depth=10, n_estimators=1000, reg_alpha=1, reg_lambda=1, score=(train=-274.735, test=-680059071.772), total=  22.3s\n",
      "[CV] max_depth=10, n_estimators=1000, reg_alpha=1, reg_lambda=1 ......\n",
      "[CV]  max_depth=10, n_estimators=1000, reg_alpha=1, reg_lambda=1, score=(train=-206.278, test=-1122149965.530), total=  22.3s\n",
      "[CV] max_depth=10, n_estimators=1000, reg_alpha=1, reg_lambda=1 ......\n",
      "[CV]  max_depth=10, n_estimators=1000, reg_alpha=1, reg_lambda=1, score=(train=-188.633, test=-822201698.883), total=  23.2s\n",
      "[Parallel(n_jobs=1)]: Done 900 out of 900 | elapsed: 122.0min finished\n"
     ]
    },
    {
     "output_type": "execute_result",
     "data": {
      "text/plain": [
       "GridSearchCV(cv=3,\n",
       "             estimator=XGBRegressor(base_score=None, booster=None,\n",
       "                                    colsample_bylevel=None,\n",
       "                                    colsample_bynode=None,\n",
       "                                    colsample_bytree=None, gamma=None,\n",
       "                                    gpu_id=None, importance_type='gain',\n",
       "                                    interaction_constraints=None,\n",
       "                                    learning_rate=0.05, max_delta_step=None,\n",
       "                                    max_depth=None, min_child_weight=None,\n",
       "                                    missing=nan, monotone_constraints=None,\n",
       "                                    n_estimators=100, n_jobs=...\n",
       "                                    num_parallel_tree=None, random_state=42,\n",
       "                                    reg_alpha=None, reg_lambda=None,\n",
       "                                    scale_pos_weight=None, subsample=None,\n",
       "                                    tree_method=None, validate_parameters=None,\n",
       "                                    verbosity=None),\n",
       "             param_grid=[{'max_depth': [3, 5, 7, 10],\n",
       "                          'n_estimators': [250, 500, 1000],\n",
       "                          'reg_alpha': [0, 0.25, 0.5, 0.75, 1],\n",
       "                          'reg_lambda': [0, 0.25, 0.5, 0.75, 1]}],\n",
       "             return_train_score=True, scoring='neg_mean_squared_error',\n",
       "             verbose=3)"
      ]
     },
     "metadata": {},
     "execution_count": 70
    }
   ],
   "source": [
    "#XGBoost gave the lowest mean & std from the base models. Let's choose this model and use GridSearch to see if we can improve it.\n",
    "#[Parallel(n_jobs=1)]: Done 900 out of 900 | elapsed: 122.0min finished\n",
    "\n",
    "XGB_reg = xgb.XGBRegressor(random_state=42, learning_rate=0.05)\n",
    "\n",
    "xgb_param_grid = [\n",
    "    {'n_estimators' : [250, 500, 1000], 'max_depth' : [3, 5, 7, 10], 'reg_alpha' : [0, 0.25, 0.5, 0.75, 1], 'reg_lambda' : [0, 0.25, 0.5, 0.75, 1]}\n",
    "]\n",
    "\n",
    "#grid_search = GridSearchCV(XGB_reg, xgb_param_grid, cv=3, scoring='neg_mean_squared_error', return_train_score=True, verbose=3)\n",
    "\n",
    "#grid_search.fit(X, y)\n",
    "\n",
    "#XGB_reg_best = grid_search.best_estimator_\n"
   ]
  },
  {
   "cell_type": "code",
   "execution_count": 37,
   "metadata": {},
   "outputs": [],
   "source": [
    "#Chosen best estimator using grid search -> taken results below to save running again\n",
    "XGB_reg_best = xgb.XGBRegressor(n_estimators=500, learning_rate=0.05, max_depth=3, reg_alpha=0, reg_lambda=0.25, random_state=42)\n",
    "\n",
    "XGB_reg_best.fit(X, y)\n",
    "\n",
    "final_predictions = XGB_reg_best.predict(X_test)"
   ]
  },
  {
   "cell_type": "code",
   "execution_count": 38,
   "metadata": {},
   "outputs": [],
   "source": [
    "submission_df = pd.DataFrame({'Id' : test_ID, 'SalePrice' : final_predictions})"
   ]
  },
  {
   "cell_type": "code",
   "execution_count": 40,
   "metadata": {},
   "outputs": [],
   "source": [
    "submission_df.to_csv(r\"C:\\Users\\markc\\OneDrive\\Documents\\Python\\100Hours\\Regression\\House Prices\\Submission.csv\", index=False)"
   ]
  },
  {
   "cell_type": "code",
   "execution_count": 39,
   "metadata": {},
   "outputs": [
    {
     "output_type": "execute_result",
     "data": {
      "text/plain": [
       "        Id      SalePrice\n",
       "0     1461  125328.109375\n",
       "1     1462  161754.453125\n",
       "2     1463  176564.250000\n",
       "3     1464  190734.437500\n",
       "4     1465  195412.546875\n",
       "...    ...            ...\n",
       "1454  2915   82865.367188\n",
       "1455  2916   81452.359375\n",
       "1456  2917  154342.500000\n",
       "1457  2918  120713.257812\n",
       "1458  2919  214452.906250\n",
       "\n",
       "[1459 rows x 2 columns]"
      ],
      "text/html": "<div>\n<style scoped>\n    .dataframe tbody tr th:only-of-type {\n        vertical-align: middle;\n    }\n\n    .dataframe tbody tr th {\n        vertical-align: top;\n    }\n\n    .dataframe thead th {\n        text-align: right;\n    }\n</style>\n<table border=\"1\" class=\"dataframe\">\n  <thead>\n    <tr style=\"text-align: right;\">\n      <th></th>\n      <th>Id</th>\n      <th>SalePrice</th>\n    </tr>\n  </thead>\n  <tbody>\n    <tr>\n      <th>0</th>\n      <td>1461</td>\n      <td>125328.109375</td>\n    </tr>\n    <tr>\n      <th>1</th>\n      <td>1462</td>\n      <td>161754.453125</td>\n    </tr>\n    <tr>\n      <th>2</th>\n      <td>1463</td>\n      <td>176564.250000</td>\n    </tr>\n    <tr>\n      <th>3</th>\n      <td>1464</td>\n      <td>190734.437500</td>\n    </tr>\n    <tr>\n      <th>4</th>\n      <td>1465</td>\n      <td>195412.546875</td>\n    </tr>\n    <tr>\n      <th>...</th>\n      <td>...</td>\n      <td>...</td>\n    </tr>\n    <tr>\n      <th>1454</th>\n      <td>2915</td>\n      <td>82865.367188</td>\n    </tr>\n    <tr>\n      <th>1455</th>\n      <td>2916</td>\n      <td>81452.359375</td>\n    </tr>\n    <tr>\n      <th>1456</th>\n      <td>2917</td>\n      <td>154342.500000</td>\n    </tr>\n    <tr>\n      <th>1457</th>\n      <td>2918</td>\n      <td>120713.257812</td>\n    </tr>\n    <tr>\n      <th>1458</th>\n      <td>2919</td>\n      <td>214452.906250</td>\n    </tr>\n  </tbody>\n</table>\n<p>1459 rows × 2 columns</p>\n</div>"
     },
     "metadata": {},
     "execution_count": 39
    }
   ],
   "source": [
    "submission_df"
   ]
  },
  {
   "cell_type": "code",
   "execution_count": null,
   "metadata": {},
   "outputs": [],
   "source": []
  }
 ]
}